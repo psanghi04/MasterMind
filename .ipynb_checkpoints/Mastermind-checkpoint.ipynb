{
 "cells": [
  {
   "cell_type": "markdown",
   "id": "4b541bb5",
   "metadata": {},
   "source": [
    "# Imports"
   ]
  },
  {
   "cell_type": "code",
   "execution_count": null,
   "id": "d7cd9238",
   "metadata": {
    "ExecuteTime": {
     "end_time": "2022-11-06T21:35:23.669877Z",
     "start_time": "2022-11-06T21:35:23.135314Z"
    }
   },
   "outputs": [],
   "source": [
    "from IPython.display import clear_output, display\n",
    "import ipywidgets as widgets\n",
    "import random\n",
    "import matplotlib.pyplot as plt \n",
    "%matplotlib inline"
   ]
  },
  {
   "cell_type": "markdown",
   "id": "b7369145",
   "metadata": {},
   "source": [
    "# Global Variables"
   ]
  },
  {
   "cell_type": "code",
   "execution_count": null,
   "id": "00e660e1",
   "metadata": {
    "ExecuteTime": {
     "end_time": "2022-11-06T21:35:23.716478Z",
     "start_time": "2022-11-06T21:35:23.713630Z"
    }
   },
   "outputs": [],
   "source": [
    "pegs=[\"Red\",\"Blue\",\"Yellow\",\"Green\",\"Purple\",\"Orange\", \"Cyan\", \"LightGreen\", \"Pink\"]\n",
    "code=[]\n",
    "player_guess=[]\n",
    "input_index=0\n",
    "n_inputs = 10\n",
    "ycoord_arr=[]\n",
    "guesses=[]\n",
    "feedback=[]"
   ]
  },
  {
   "cell_type": "markdown",
   "id": "de16f8d1",
   "metadata": {},
   "source": [
    "# Game Functions"
   ]
  },
  {
   "cell_type": "code",
   "execution_count": null,
   "id": "b15152a0",
   "metadata": {
    "ExecuteTime": {
     "end_time": "2022-11-06T21:35:24.028403Z",
     "start_time": "2022-11-06T21:35:23.954309Z"
    }
   },
   "outputs": [],
   "source": [
    "def code_generator():\n",
    "    # Making the secret code\n",
    "    \n",
    "    el=0\n",
    "    while el<5:\n",
    "        index=random.randrange(9)\n",
    "        if code.count(pegs[index])>1:\n",
    "            continue\n",
    "        code.append(pegs[index])\n",
    "        el+=1 \n",
    "        \n",
    "def check(player_guess):\n",
    "    \n",
    "    # comparing the player guess with the code\n",
    "    player_guess_index=dict()\n",
    "    player_guess_colour_count=dict()\n",
    "    code_index=dict()\n",
    "    code_colour_count=dict()\n",
    "    duplicates=[]\n",
    "    \n",
    "    flag=False\n",
    "    feedback=[]\n",
    "    if player_guess==code:\n",
    "        \n",
    "        # If the player guess and code are exactly the same\n",
    "        feedback.extend([\"Black\"]*5)\n",
    "        flag=True\n",
    "    else:\n",
    "        \n",
    "        # Creating a dictionary to keep count of all the colours in player guess and the secret code\n",
    "        for el in range(5):\n",
    "            code_colour_count[code[el]]=code.count(code[el])\n",
    "            player_guess_colour_count[player_guess[el]]=player_guess.count(player_guess[el])\n",
    "        \n",
    "        # Creating a dictionary to store the positions of the colours in the secret code in form of index\n",
    "        for el in code_colour_count:\n",
    "            code_index.setdefault(el,[])\n",
    "            for index in range(5):\n",
    "                if code[index]==el:\n",
    "                    code_index[el]+=[index]\n",
    "        \n",
    "        # Creating a dictionary to store the positions of the colours in the player guess in form of index\n",
    "        for el in player_guess_colour_count:\n",
    "            player_guess_index.setdefault(el,[])\n",
    "            for index in range(5):\n",
    "                if player_guess[index]==el:\n",
    "                    player_guess_index[el]+=[index]\n",
    "        \n",
    "        # Checking if the index of colours in code match with index of colours in player guess \n",
    "        for el in code_index:\n",
    "            if el in player_guess:\n",
    "                duplicates=[]\n",
    "                for index in code_index[el]:\n",
    "                    if index in player_guess_index[el]:\n",
    "                        \n",
    "                    # Checking if player guessed a colour more times than in the code to avoid printing multiple feedbacks for one colour\n",
    "                        if len(code_index[el])<=len(player_guess_index[el]):\n",
    "                            feedback.append(\"Black\")\n",
    "                        else:\n",
    "                            duplicates.append(\"Black\")\n",
    "                    else:\n",
    "                        if len(code_index[el])<=len(player_guess_index[el]):\n",
    "                            feedback.append(\"White\")\n",
    "                        else:\n",
    "                            duplicates.append(\"White\")\n",
    "                \n",
    "                # Deciding the correct feedback for colours with multiple feedbacks\n",
    "                if duplicates!=[]:\n",
    "                    if \"Black\" in duplicates:\n",
    "                        feedback.append(\"Black\")\n",
    "                    else:\n",
    "                        feedback.append(\"White\")        \n",
    "        \n",
    "        # Randomly shuffling the feedback to prevent user from using the order as an guide\n",
    "        random.shuffle(feedback)\n",
    "        \n",
    "    return feedback,flag"
   ]
  },
  {
   "cell_type": "markdown",
   "id": "029ce91b",
   "metadata": {},
   "source": [
    "# UI Functions"
   ]
  },
  {
   "cell_type": "code",
   "execution_count": null,
   "id": "209e630d",
   "metadata": {
    "ExecuteTime": {
     "end_time": "2022-11-06T21:35:24.089562Z",
     "start_time": "2022-11-06T21:35:24.076184Z"
    }
   },
   "outputs": [],
   "source": [
    "def board(ycoord_arr, feedback, guesses):\n",
    "    # printing the game board\n",
    "    \n",
    "    #plotting the board\n",
    "    plt.plot([6]*13,[0,1,2,3,4,5,6,7,8,9,10,11,12], color=\"black\")\n",
    "    plt.plot([0]*13,[0,1,2,3,4,5,6,7,8,9,10,11,12], color=\"black\")\n",
    "    plt.plot([12]*13,[0,1,2,3,4,5,6,7,8,9,10,11,12], color=\"black\")\n",
    "    plt.plot([0,1,2,3,4,5,6,7,8,9,10,11,12],[12]*13, color=\"black\")\n",
    "    for el in range(10):\n",
    "        plt.plot([0,1,2,3,4,5,6,7,8,9,10,11,12],[el]*13, color=\"black\")\n",
    "\n",
    "    #plotting feedback\n",
    "    for i in range(0, len(feedback)):\n",
    "        xcoord_feed=7\n",
    "        ycoord = ycoord_arr[i]\n",
    "        for el in feedback[i]:\n",
    "            if(el):\n",
    "                plt.plot(xcoord_feed, ycoord, '.', color=el, ms=20, mec='k')\n",
    "                xcoord_feed+=1\n",
    "        \n",
    "    #plotting guess\n",
    "    for i in range(0, len(guesses)):\n",
    "        xcoord=1\n",
    "        ycoord = ycoord_arr[i]\n",
    "        for el in guesses[i]:\n",
    "            plt.plot(xcoord, ycoord, '.', color=el, ms=20, mec='k')\n",
    "            xcoord+=1\n",
    "    \n",
    "    #Styling the plot\n",
    "    plt.axis(\"off\"); \n",
    "    plt.title(\"Mastermind\",size=30)\n",
    "    plt.annotate(\"Guess\",xy=(1.5,11), size=20)\n",
    "    plt.annotate(\"Feedback\",xy=(6.7,11), size=20)\n",
    "    plt.annotate(\"1\",xy=(-0.6,0.2), size=13)\n",
    "    plt.annotate(\"5\",xy=(-0.6,4.2), size=13)\n",
    "    plt.annotate(\"9\",xy=(-0.6,8.2), size=13)\n",
    "    plt.show()\n",
    "    \n",
    "def choice():\n",
    "    # Creating the dropdown list for the user to choose colours\n",
    "    \n",
    "    player_guess=[]\n",
    "    colour_1=widgets.Dropdown(\n",
    "           options=[\"Red\",\"Blue\",\"Yellow\",\"Green\",\"Purple\",\"Orange\", \"Cyan\", \"LightGreen\", \"Pink\"],\n",
    "           value='Red',\n",
    "           description='Choice 1:')\n",
    "    colour_2=widgets.Dropdown(\n",
    "           options=[\"Red\",\"Blue\",\"Yellow\",\"Green\",\"Purple\",\"Orange\", \"Cyan\", \"LightGreen\", \"Pink\"],\n",
    "           value='Red',\n",
    "           description='Choice 2:')\n",
    "    colour_3=widgets.Dropdown(\n",
    "           options=[\"Red\",\"Blue\",\"Yellow\",\"Green\",\"Purple\",\"Orange\", \"Cyan\", \"LightGreen\", \"Pink\"],\n",
    "           value='Red',\n",
    "           description='Choice 3:')\n",
    "    colour_4=widgets.Dropdown(\n",
    "           options=[\"Red\",\"Blue\",\"Yellow\",\"Green\",\"Purple\",\"Orange\", \"Cyan\", \"LightGreen\", \"Pink\"],\n",
    "           value='Red',\n",
    "           description='Choice 4:')\n",
    "    colour_5=widgets.Dropdown(\n",
    "           options=[\"Red\",\"Blue\",\"Yellow\",\"Green\",\"Purple\",\"Orange\", \"Cyan\", \"LightGreen\", \"Pink\"],\n",
    "           value='Red',\n",
    "           description='Choice 5:')\n",
    "    \n",
    "    # Displaying the Dropdown\n",
    "    box = widgets.HBox([colour_1, colour_2, colour_3, colour_4, colour_5])\n",
    "    display(box)\n",
    "    \n",
    "    return colour_1, colour_2, colour_3, colour_4, colour_5\n",
    "\n",
    "def on_button_clicked(_):    \n",
    "    with out:\n",
    "        # What happens when the button is pressed\n",
    "        \n",
    "        global input_index\n",
    "        if input_index<n_inputs:\n",
    "            # Taking the values of the dropdown player has selected\n",
    "            player_guess=[]\n",
    "            player_guess.extend([colour_1.value, colour_2.value, colour_3.value, colour_4.value, colour_5.value])\n",
    "            \n",
    "            # Checking player guess using previously defined function\n",
    "            guess,flag=check(player_guess)\n",
    "            feedback.append(guess)\n",
    "            guesses.append(player_guess)\n",
    "            \n",
    "            # Creating plot instance and sets the size of the plot \n",
    "            plt.rcParams['figure.figsize'] = (5.0, 5.0);\n",
    "            fig, ax = plt.subplots()\n",
    "\n",
    "            #Clearing the output cell and displaying the board\n",
    "            clear_output(wait=True)\n",
    "            ycoord_arr.append(input_index+0.5)\n",
    "            board(ycoord_arr, feedback, guesses)\n",
    "            \n",
    "            if flag:\n",
    "                print(\"Congratulations on finding the code\")\n",
    "                \n",
    "        if input_index==n_inputs-1:\n",
    "            print(\"You Lost\\n\")\n",
    "            print(f\"The SECRET CODE is {code}\") \n",
    "        input_index+=1"
   ]
  },
  {
   "cell_type": "markdown",
   "id": "863f24c8",
   "metadata": {},
   "source": [
    "# Play Function"
   ]
  },
  {
   "cell_type": "code",
   "execution_count": null,
   "id": "197e4803",
   "metadata": {
    "ExecuteTime": {
     "end_time": "2022-11-06T21:35:24.280655Z",
     "start_time": "2022-11-06T21:35:24.278259Z"
    }
   },
   "outputs": [],
   "source": [
    "def play():\n",
    "    code_generator()\n",
    "    print('''Objective:\n",
    "    1) Guess a secret code consisting of a series of 5 colors. There can be at max 2 occurrences of the same colour\n",
    "    2) Each guess results in feedback narrowing down the possibilities of the code.\n",
    "    3) Total Number of Chances: 10\n",
    "\n",
    "    Rules:\n",
    "    1) A Black colour -> Color chosen is the right colour and in the right position. \n",
    "    2) A White colour -> Color chosen is the right colour and in the wrong position. \n",
    "\n",
    "    ''')"
   ]
  },
  {
   "cell_type": "markdown",
   "id": "cb235371",
   "metadata": {},
   "source": [
    "# Game"
   ]
  },
  {
   "cell_type": "code",
   "execution_count": null,
   "id": "db7a0426",
   "metadata": {
    "ExecuteTime": {
     "end_time": "2022-11-06T21:35:24.435715Z",
     "start_time": "2022-11-06T21:35:24.386915Z"
    }
   },
   "outputs": [],
   "source": [
    "play()\n",
    "\n",
    "# Assigning the each colour chosen in the dropdown to variables\n",
    "colour_1, colour_2, colour_3, colour_4, colour_5=choice()\n",
    "\n",
    "# Displaying the button\n",
    "button = widgets.Button(description='Enter')\n",
    "out = widgets.Output()\n",
    "button.on_click(on_button_clicked)\n",
    "widgets.VBox([button,out])"
   ]
  },
  {
   "cell_type": "code",
   "execution_count": null,
   "id": "6f4c14c1",
   "metadata": {},
   "outputs": [],
   "source": []
  }
 ],
 "metadata": {
  "kernelspec": {
   "display_name": "Python 3 (ipykernel)",
   "language": "python",
   "name": "python3"
  },
  "language_info": {
   "codemirror_mode": {
    "name": "ipython",
    "version": 3
   },
   "file_extension": ".py",
   "mimetype": "text/x-python",
   "name": "python",
   "nbconvert_exporter": "python",
   "pygments_lexer": "ipython3",
   "version": "3.9.12"
  },
  "latex_envs": {
   "LaTeX_envs_menu_present": true,
   "autoclose": false,
   "autocomplete": true,
   "bibliofile": "biblio.bib",
   "cite_by": "apalike",
   "current_citInitial": 1,
   "eqLabelWithNumbers": true,
   "eqNumInitial": 1,
   "hotkeys": {
    "equation": "Ctrl-E",
    "itemize": "Ctrl-I"
   },
   "labels_anchors": false,
   "latex_user_defs": false,
   "report_style_numbering": false,
   "user_envs_cfg": false
  },
  "toc": {
   "base_numbering": 1,
   "nav_menu": {},
   "number_sections": true,
   "sideBar": true,
   "skip_h1_title": false,
   "title_cell": "Table of Contents",
   "title_sidebar": "Contents",
   "toc_cell": false,
   "toc_position": {},
   "toc_section_display": true,
   "toc_window_display": false
  },
  "varInspector": {
   "cols": {
    "lenName": 16,
    "lenType": 16,
    "lenVar": 40
   },
   "kernels_config": {
    "python": {
     "delete_cmd_postfix": "",
     "delete_cmd_prefix": "del ",
     "library": "var_list.py",
     "varRefreshCmd": "print(var_dic_list())"
    },
    "r": {
     "delete_cmd_postfix": ") ",
     "delete_cmd_prefix": "rm(",
     "library": "var_list.r",
     "varRefreshCmd": "cat(var_dic_list()) "
    }
   },
   "types_to_exclude": [
    "module",
    "function",
    "builtin_function_or_method",
    "instance",
    "_Feature"
   ],
   "window_display": false
  }
 },
 "nbformat": 4,
 "nbformat_minor": 5
}
